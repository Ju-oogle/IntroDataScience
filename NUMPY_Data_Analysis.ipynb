{
  "nbformat": 4,
  "nbformat_minor": 0,
  "metadata": {
    "colab": {
      "name": "NUMPY Data Analysis.ipynb",
      "provenance": [],
      "collapsed_sections": [],
      "toc_visible": true,
      "authorship_tag": "ABX9TyOlmIPbs5Ibc+PFb/KF/LXI",
      "include_colab_link": true
    },
    "kernelspec": {
      "name": "python3",
      "display_name": "Python 3"
    },
    "language_info": {
      "name": "python"
    }
  },
  "cells": [
    {
      "cell_type": "markdown",
      "metadata": {
        "id": "view-in-github",
        "colab_type": "text"
      },
      "source": [
        "<a href=\"https://colab.research.google.com/github/Ju-oogle/IntroDataScience/blob/Numpy/NUMPY_Data_Analysis.ipynb\" target=\"_parent\"><img src=\"https://colab.research.google.com/assets/colab-badge.svg\" alt=\"Open In Colab\"/></a>"
      ]
    },
    {
      "cell_type": "markdown",
      "source": [
        "# Data Analysis with **NUMPY**"
      ],
      "metadata": {
        "id": "T6vex8Z8IgwY"
      }
    },
    {
      "cell_type": "markdown",
      "source": [
        "## Must known about Arrays"
      ],
      "metadata": {
        "id": "xFQT2b3NIYtk"
      }
    },
    {
      "cell_type": "code",
      "execution_count": 89,
      "metadata": {
        "id": "lseNCMRNFIMP"
      },
      "outputs": [],
      "source": [
        "import numpy as np   # Importing the library and giving it a short nickname"
      ]
    },
    {
      "cell_type": "code",
      "source": [
        "np.array([1,2,3,4,5]) # arrays must contain equal type elements"
      ],
      "metadata": {
        "colab": {
          "base_uri": "https://localhost:8080/"
        },
        "id": "d5mpJnypFgMO",
        "outputId": "f76142d7-2a72-4c49-bbd2-344da272a701"
      },
      "execution_count": 90,
      "outputs": [
        {
          "output_type": "execute_result",
          "data": {
            "text/plain": [
              "array([1, 2, 3, 4, 5])"
            ]
          },
          "metadata": {},
          "execution_count": 90
        }
      ]
    },
    {
      "cell_type": "code",
      "source": [
        "a = np.array([1,2,3,4,5]) # the dimension is unchagable"
      ],
      "metadata": {
        "id": "M6GWmgo_GbSk"
      },
      "execution_count": 91,
      "outputs": []
    },
    {
      "cell_type": "markdown",
      "source": [
        "## Basic functions with Arrays"
      ],
      "metadata": {
        "id": "069RKDTCIpak"
      }
    },
    {
      "cell_type": "code",
      "source": [
        "type(a)  #  type of element in variable 'a'"
      ],
      "metadata": {
        "colab": {
          "base_uri": "https://localhost:8080/"
        },
        "id": "vOl6DqkwGiA-",
        "outputId": "78705cec-db21-497c-9163-600bf1099851"
      },
      "execution_count": 92,
      "outputs": [
        {
          "output_type": "execute_result",
          "data": {
            "text/plain": [
              "numpy.ndarray"
            ]
          },
          "metadata": {},
          "execution_count": 92
        }
      ]
    },
    {
      "cell_type": "code",
      "source": [
        "a.size  # To know the array's size"
      ],
      "metadata": {
        "colab": {
          "base_uri": "https://localhost:8080/"
        },
        "id": "KAP-t83DGgA8",
        "outputId": "bcb1a10d-cbd4-41b6-bb3d-3949f3282d8d"
      },
      "execution_count": 93,
      "outputs": [
        {
          "output_type": "execute_result",
          "data": {
            "text/plain": [
              "5"
            ]
          },
          "metadata": {},
          "execution_count": 93
        }
      ]
    },
    {
      "cell_type": "code",
      "source": [
        "a.ndim  # To know the array's dimension"
      ],
      "metadata": {
        "colab": {
          "base_uri": "https://localhost:8080/"
        },
        "id": "VBiVuqL3GwJx",
        "outputId": "77ddfe79-ce00-4116-b292-943354c0615d"
      },
      "execution_count": 94,
      "outputs": [
        {
          "output_type": "execute_result",
          "data": {
            "text/plain": [
              "1"
            ]
          },
          "metadata": {},
          "execution_count": 94
        }
      ]
    },
    {
      "cell_type": "code",
      "source": [
        "a.dtype  # To know the data type"
      ],
      "metadata": {
        "colab": {
          "base_uri": "https://localhost:8080/"
        },
        "id": "538s_abXGxEr",
        "outputId": "d024d5da-b33c-4512-c929-77dacd316366"
      },
      "execution_count": 95,
      "outputs": [
        {
          "output_type": "execute_result",
          "data": {
            "text/plain": [
              "dtype('int64')"
            ]
          },
          "metadata": {},
          "execution_count": 95
        }
      ]
    },
    {
      "cell_type": "code",
      "source": [
        "a.shape  # Number of dimensions and num of elements in it"
      ],
      "metadata": {
        "colab": {
          "base_uri": "https://localhost:8080/"
        },
        "id": "OOJO7MADG3O6",
        "outputId": "62972846-c3e0-4048-8cdf-de24544806b1"
      },
      "execution_count": 96,
      "outputs": [
        {
          "output_type": "execute_result",
          "data": {
            "text/plain": [
              "(5,)"
            ]
          },
          "metadata": {},
          "execution_count": 96
        }
      ]
    },
    {
      "cell_type": "markdown",
      "source": [
        "## Arithmetic Operations with Arrays"
      ],
      "metadata": {
        "id": "j_Mk_4GjIB02"
      }
    },
    {
      "cell_type": "code",
      "source": [
        "a + 10  # Results in a new array with all the elements from array 'a' + 10"
      ],
      "metadata": {
        "colab": {
          "base_uri": "https://localhost:8080/"
        },
        "id": "SO94BQOuHIZV",
        "outputId": "8fa1012f-9218-4e8f-e67a-d775996478a1"
      },
      "execution_count": 97,
      "outputs": [
        {
          "output_type": "execute_result",
          "data": {
            "text/plain": [
              "array([11, 12, 13, 14, 15])"
            ]
          },
          "metadata": {},
          "execution_count": 97
        }
      ]
    },
    {
      "cell_type": "code",
      "source": [
        "a - 10  # Results in a new array with all the elements from array 'a' - 10"
      ],
      "metadata": {
        "colab": {
          "base_uri": "https://localhost:8080/"
        },
        "id": "HKj1p7u6IAHQ",
        "outputId": "c16a9b4e-0a88-4243-c379-fdc8b105a09a"
      },
      "execution_count": 98,
      "outputs": [
        {
          "output_type": "execute_result",
          "data": {
            "text/plain": [
              "array([-9, -8, -7, -6, -5])"
            ]
          },
          "metadata": {},
          "execution_count": 98
        }
      ]
    },
    {
      "cell_type": "code",
      "source": [
        "a * 10  # Results in a new array with all the elements from array 'a' * 10"
      ],
      "metadata": {
        "colab": {
          "base_uri": "https://localhost:8080/"
        },
        "id": "3zr5BcYMILrK",
        "outputId": "0803070f-95aa-4576-c34f-917057603307"
      },
      "execution_count": 99,
      "outputs": [
        {
          "output_type": "execute_result",
          "data": {
            "text/plain": [
              "array([10, 20, 30, 40, 50])"
            ]
          },
          "metadata": {},
          "execution_count": 99
        }
      ]
    },
    {
      "cell_type": "code",
      "source": [
        "a / 10  # Results in a new array with all the elements from array 'a' / 10"
      ],
      "metadata": {
        "colab": {
          "base_uri": "https://localhost:8080/"
        },
        "id": "of6lwW3MGzpQ",
        "outputId": "e1dab30e-2a63-4f7d-d5bb-5a55f125e65b"
      },
      "execution_count": 100,
      "outputs": [
        {
          "output_type": "execute_result",
          "data": {
            "text/plain": [
              "array([0.1, 0.2, 0.3, 0.4, 0.5])"
            ]
          },
          "metadata": {},
          "execution_count": 100
        }
      ]
    },
    {
      "cell_type": "code",
      "source": [
        "b = np.array([6,7,8,9,10]) # the dimension is unchagable"
      ],
      "metadata": {
        "id": "tpp3unhRIdaP"
      },
      "execution_count": 101,
      "outputs": []
    },
    {
      "cell_type": "code",
      "source": [
        "a + b  # Results in a new array with all the elements from array 'a' + 'b'"
      ],
      "metadata": {
        "colab": {
          "base_uri": "https://localhost:8080/"
        },
        "id": "NYB6fduxIrZC",
        "outputId": "04fcf5d2-adb3-45a3-a897-a445f58d0099"
      },
      "execution_count": 102,
      "outputs": [
        {
          "output_type": "execute_result",
          "data": {
            "text/plain": [
              "array([ 7,  9, 11, 13, 15])"
            ]
          },
          "metadata": {},
          "execution_count": 102
        }
      ]
    },
    {
      "cell_type": "code",
      "source": [
        "a - b # Results in a new array with all the elements from array 'a' - 'b'"
      ],
      "metadata": {
        "colab": {
          "base_uri": "https://localhost:8080/"
        },
        "id": "BC_4efdoIvIQ",
        "outputId": "2dde65db-2c84-4c1d-8c9c-4c9c0833b070"
      },
      "execution_count": 103,
      "outputs": [
        {
          "output_type": "execute_result",
          "data": {
            "text/plain": [
              "array([-5, -5, -5, -5, -5])"
            ]
          },
          "metadata": {},
          "execution_count": 103
        }
      ]
    },
    {
      "cell_type": "code",
      "source": [
        "a * b # Results in a new array with all the elements from array 'a' * 'b'"
      ],
      "metadata": {
        "colab": {
          "base_uri": "https://localhost:8080/"
        },
        "id": "E8pHq_osIxlw",
        "outputId": "b9e47cd5-1a67-4e65-8263-83048181dd1e"
      },
      "execution_count": 104,
      "outputs": [
        {
          "output_type": "execute_result",
          "data": {
            "text/plain": [
              "array([ 6, 14, 24, 36, 50])"
            ]
          },
          "metadata": {},
          "execution_count": 104
        }
      ]
    },
    {
      "cell_type": "code",
      "source": [
        "a / b # Results in a new array with all the elements from array 'a' / 'b'"
      ],
      "metadata": {
        "colab": {
          "base_uri": "https://localhost:8080/"
        },
        "id": "q3YrkX0bIzKC",
        "outputId": "6a0542e5-8e2c-4f24-d151-98be169fbc91"
      },
      "execution_count": 105,
      "outputs": [
        {
          "output_type": "execute_result",
          "data": {
            "text/plain": [
              "array([0.16666667, 0.28571429, 0.375     , 0.44444444, 0.5       ])"
            ]
          },
          "metadata": {},
          "execution_count": 105
        }
      ]
    },
    {
      "cell_type": "code",
      "source": [
        "c = np.array([1,0,1], dtype=bool) # Im determinating my array's data type\n",
        "c"
      ],
      "metadata": {
        "colab": {
          "base_uri": "https://localhost:8080/"
        },
        "id": "SwxGGwn7I1Gv",
        "outputId": "dea30836-b2be-4f87-dffa-e78a8950f8fe"
      },
      "execution_count": 106,
      "outputs": [
        {
          "output_type": "execute_result",
          "data": {
            "text/plain": [
              "array([ True, False,  True])"
            ]
          },
          "metadata": {},
          "execution_count": 106
        }
      ]
    },
    {
      "cell_type": "markdown",
      "source": [
        "## Auto-creation of arrays and auto-filling"
      ],
      "metadata": {
        "id": "0gV9TCPHI22u"
      }
    },
    {
      "cell_type": "code",
      "source": [
        "np.arange(1,20)  # It creates an int type array with ints from start until stop -1"
      ],
      "metadata": {
        "colab": {
          "base_uri": "https://localhost:8080/"
        },
        "id": "LqxtYNe3Kn8K",
        "outputId": "5495ec3f-7fa1-431e-883a-ae3eeaa88c55"
      },
      "execution_count": 107,
      "outputs": [
        {
          "output_type": "execute_result",
          "data": {
            "text/plain": [
              "array([ 1,  2,  3,  4,  5,  6,  7,  8,  9, 10, 11, 12, 13, 14, 15, 16, 17,\n",
              "       18, 19])"
            ]
          },
          "metadata": {},
          "execution_count": 107
        }
      ]
    },
    {
      "cell_type": "code",
      "source": [
        "np.arange(0,10,2) # Array with start - stop - steps"
      ],
      "metadata": {
        "colab": {
          "base_uri": "https://localhost:8080/"
        },
        "id": "cDaQilzPLtvn",
        "outputId": "32d7a535-5b0e-408a-b67d-e20423f9b9f7"
      },
      "execution_count": 108,
      "outputs": [
        {
          "output_type": "execute_result",
          "data": {
            "text/plain": [
              "array([0, 2, 4, 6, 8])"
            ]
          },
          "metadata": {},
          "execution_count": 108
        }
      ]
    },
    {
      "cell_type": "code",
      "source": [
        "np.zeros(10) # Array of dtype: float 0's"
      ],
      "metadata": {
        "colab": {
          "base_uri": "https://localhost:8080/"
        },
        "id": "XSWweIxkMsiy",
        "outputId": "cc6c3ed9-f322-488a-d19b-386236b357d3"
      },
      "execution_count": 109,
      "outputs": [
        {
          "output_type": "execute_result",
          "data": {
            "text/plain": [
              "array([0., 0., 0., 0., 0., 0., 0., 0., 0., 0.])"
            ]
          },
          "metadata": {},
          "execution_count": 109
        }
      ]
    },
    {
      "cell_type": "code",
      "source": [
        "np.zeros(10, dtype=int) # Array of dtype: int 0's"
      ],
      "metadata": {
        "colab": {
          "base_uri": "https://localhost:8080/"
        },
        "id": "iVUIkEPFM7tl",
        "outputId": "f0252feb-df77-4948-b2bf-e964b1a91541"
      },
      "execution_count": 110,
      "outputs": [
        {
          "output_type": "execute_result",
          "data": {
            "text/plain": [
              "array([0, 0, 0, 0, 0, 0, 0, 0, 0, 0])"
            ]
          },
          "metadata": {},
          "execution_count": 110
        }
      ]
    },
    {
      "cell_type": "code",
      "source": [
        "np.zeros(3, dtype=bool) # Array of dtype: bool 0's"
      ],
      "metadata": {
        "colab": {
          "base_uri": "https://localhost:8080/"
        },
        "id": "mGQ5PLO2Nejy",
        "outputId": "89d7be2b-390d-4735-b475-94c99e0aa1a5"
      },
      "execution_count": 111,
      "outputs": [
        {
          "output_type": "execute_result",
          "data": {
            "text/plain": [
              "array([False, False, False])"
            ]
          },
          "metadata": {},
          "execution_count": 111
        }
      ]
    },
    {
      "cell_type": "code",
      "source": [
        "np.ones(5) # Array of dtype: float 1's"
      ],
      "metadata": {
        "colab": {
          "base_uri": "https://localhost:8080/"
        },
        "id": "Prgplzo5NpuS",
        "outputId": "667845ba-57a4-42db-a766-f399b5354eff"
      },
      "execution_count": 112,
      "outputs": [
        {
          "output_type": "execute_result",
          "data": {
            "text/plain": [
              "array([1., 1., 1., 1., 1.])"
            ]
          },
          "metadata": {},
          "execution_count": 112
        }
      ]
    },
    {
      "cell_type": "code",
      "source": [
        "np.ones(5, dtype=int) # Array of dtype: int 1's"
      ],
      "metadata": {
        "colab": {
          "base_uri": "https://localhost:8080/"
        },
        "id": "PJWkDLp8NnuP",
        "outputId": "100b7f7e-dd2f-460b-ba55-cc4be4ce81b1"
      },
      "execution_count": 113,
      "outputs": [
        {
          "output_type": "execute_result",
          "data": {
            "text/plain": [
              "array([1, 1, 1, 1, 1])"
            ]
          },
          "metadata": {},
          "execution_count": 113
        }
      ]
    },
    {
      "cell_type": "code",
      "source": [
        "np.ones(3, dtype=bool) # Array of dtype: bool 1's"
      ],
      "metadata": {
        "colab": {
          "base_uri": "https://localhost:8080/"
        },
        "id": "3-A2mpVZMqlb",
        "outputId": "b4b05ad9-ce8b-48e6-da69-8db664257c50"
      },
      "execution_count": 114,
      "outputs": [
        {
          "output_type": "execute_result",
          "data": {
            "text/plain": [
              "array([ True,  True,  True])"
            ]
          },
          "metadata": {},
          "execution_count": 114
        }
      ]
    },
    {
      "cell_type": "code",
      "source": [
        "np.empty(3)  # Array filled with trashy data"
      ],
      "metadata": {
        "colab": {
          "base_uri": "https://localhost:8080/"
        },
        "id": "VE4mK90TMpZs",
        "outputId": "64225936-54f4-4ab3-e33d-51f5e678d3e3"
      },
      "execution_count": 115,
      "outputs": [
        {
          "output_type": "execute_result",
          "data": {
            "text/plain": [
              "array([3.06140940e-316, 1.97345609e-312, 2.33419537e-312])"
            ]
          },
          "metadata": {},
          "execution_count": 115
        }
      ]
    },
    {
      "cell_type": "code",
      "source": [
        "np.empty(3, dtype=int)  # Array filled with trashy data dtype:int"
      ],
      "metadata": {
        "colab": {
          "base_uri": "https://localhost:8080/"
        },
        "id": "HR29NmJBLr2f",
        "outputId": "a5d1a546-e34d-4dbd-935d-2eb2190fcdd3"
      },
      "execution_count": 116,
      "outputs": [
        {
          "output_type": "execute_result",
          "data": {
            "text/plain": [
              "array([    61963616, 399431958528, 472446402681])"
            ]
          },
          "metadata": {},
          "execution_count": 116
        }
      ]
    },
    {
      "cell_type": "code",
      "source": [
        "np.empty(3, dtype=bool)  # Array filled with trashy data dtype: bool"
      ],
      "metadata": {
        "colab": {
          "base_uri": "https://localhost:8080/"
        },
        "id": "g-tFnhk_Oj6b",
        "outputId": "0d57eb21-d19f-4f2b-b58f-528a8b8841e7"
      },
      "execution_count": 117,
      "outputs": [
        {
          "output_type": "execute_result",
          "data": {
            "text/plain": [
              "array([ True,  True,  True])"
            ]
          },
          "metadata": {},
          "execution_count": 117
        }
      ]
    },
    {
      "cell_type": "code",
      "source": [
        "np.random.randint(0,100,50) # It creates a randome selected array based on (start - end - length)"
      ],
      "metadata": {
        "colab": {
          "base_uri": "https://localhost:8080/"
        },
        "id": "RZdEVuAlOsFD",
        "outputId": "19e2dc1d-533f-437b-d6a9-41dd8134aebd"
      },
      "execution_count": 118,
      "outputs": [
        {
          "output_type": "execute_result",
          "data": {
            "text/plain": [
              "array([93, 20, 28, 85, 75, 70, 37, 16, 12, 76, 96, 31, 68, 55, 59, 44, 34,\n",
              "       79, 54, 21, 64, 51, 72, 44, 67, 19, 89, 87, 68, 44, 42, 97, 60, 80,\n",
              "       78, 57,  6, 19, 81, 67, 72, 18, 18, 87, 12, 15, 88, 49, 86, 48])"
            ]
          },
          "metadata": {},
          "execution_count": 118
        }
      ]
    },
    {
      "cell_type": "code",
      "source": [
        "m = np.random.randint(0,10,9)\n",
        "m"
      ],
      "metadata": {
        "colab": {
          "base_uri": "https://localhost:8080/"
        },
        "id": "DUPWfSjHQehN",
        "outputId": "a41e9791-a8e5-42b1-c655-70ef56cf8aa5"
      },
      "execution_count": 119,
      "outputs": [
        {
          "output_type": "execute_result",
          "data": {
            "text/plain": [
              "array([6, 6, 7, 8, 6, 4, 2, 3, 0])"
            ]
          },
          "metadata": {},
          "execution_count": 119
        }
      ]
    },
    {
      "cell_type": "code",
      "source": [
        "m[0]  # Get an element from the array at the [#] indicated position"
      ],
      "metadata": {
        "colab": {
          "base_uri": "https://localhost:8080/"
        },
        "id": "IwJ0H2uvRC8d",
        "outputId": "66f892ba-7fad-4699-ecd1-472e3024d474"
      },
      "execution_count": 120,
      "outputs": [
        {
          "output_type": "execute_result",
          "data": {
            "text/plain": [
              "6"
            ]
          },
          "metadata": {},
          "execution_count": 120
        }
      ]
    },
    {
      "cell_type": "code",
      "source": [
        "m"
      ],
      "metadata": {
        "colab": {
          "base_uri": "https://localhost:8080/"
        },
        "id": "Mi_0YvmVRI4P",
        "outputId": "fe11288b-f597-4ec8-d4a7-427f7fcafec0"
      },
      "execution_count": 121,
      "outputs": [
        {
          "output_type": "execute_result",
          "data": {
            "text/plain": [
              "array([6, 6, 7, 8, 6, 4, 2, 3, 0])"
            ]
          },
          "metadata": {},
          "execution_count": 121
        }
      ]
    },
    {
      "cell_type": "code",
      "source": [
        "m[4] = 6  # Reasignment of value at the [#] indicated position\n",
        "m"
      ],
      "metadata": {
        "colab": {
          "base_uri": "https://localhost:8080/"
        },
        "id": "V_QobMOWROP7",
        "outputId": "e8e18be1-8e91-4677-9187-7e9c1b13fea8"
      },
      "execution_count": 122,
      "outputs": [
        {
          "output_type": "execute_result",
          "data": {
            "text/plain": [
              "array([6, 6, 7, 8, 6, 4, 2, 3, 0])"
            ]
          },
          "metadata": {},
          "execution_count": 122
        }
      ]
    },
    {
      "cell_type": "code",
      "source": [
        "m[1:3]  # Get an array's portion at the [Start-stop-steps] position \n",
        "# If the start or the stop is included in the subrange you can ommit it.\n",
        "# For ie. [0:3] == [:3]  --- [2::2] --- [2:]== [2:]"
      ],
      "metadata": {
        "colab": {
          "base_uri": "https://localhost:8080/"
        },
        "id": "qrzSZRWRUgwN",
        "outputId": "e9de7052-bb99-43fa-c77a-7f6534d0d762"
      },
      "execution_count": 123,
      "outputs": [
        {
          "output_type": "execute_result",
          "data": {
            "text/plain": [
              "array([6, 7])"
            ]
          },
          "metadata": {},
          "execution_count": 123
        }
      ]
    },
    {
      "cell_type": "code",
      "source": [
        "m[[True, False, False, True, True, False, False, True, True]] # Getting the elements from boolean instructions. True: to get it\n",
        "# always same num of instructions than array's elements and extra pair of []"
      ],
      "metadata": {
        "colab": {
          "base_uri": "https://localhost:8080/"
        },
        "id": "pnN_1IpDRARk",
        "outputId": "7fc8b094-4b36-4ff8-8f42-be0465ce443a"
      },
      "execution_count": 124,
      "outputs": [
        {
          "output_type": "execute_result",
          "data": {
            "text/plain": [
              "array([6, 8, 6, 3, 0])"
            ]
          },
          "metadata": {},
          "execution_count": 124
        }
      ]
    },
    {
      "cell_type": "markdown",
      "source": [
        "## Operations with Arrays\n",
        "\n"
      ],
      "metadata": {
        "id": "r9As6ZEwLJU1"
      }
    },
    {
      "cell_type": "code",
      "source": [
        "def operacion(valor):\n",
        "  return (valor ** 2) + 1"
      ],
      "metadata": {
        "id": "_yxKVD17Z-J3"
      },
      "execution_count": 125,
      "outputs": []
    },
    {
      "cell_type": "code",
      "source": [
        "operacion(3)"
      ],
      "metadata": {
        "colab": {
          "base_uri": "https://localhost:8080/"
        },
        "id": "GXgQblpgZ54k",
        "outputId": "c5e4df45-28d8-4140-9a74-9006b3cb5b79"
      },
      "execution_count": 126,
      "outputs": [
        {
          "output_type": "execute_result",
          "data": {
            "text/plain": [
              "10"
            ]
          },
          "metadata": {},
          "execution_count": 126
        }
      ]
    },
    {
      "cell_type": "code",
      "source": [
        "m"
      ],
      "metadata": {
        "colab": {
          "base_uri": "https://localhost:8080/"
        },
        "id": "x_2Hck-PfJeu",
        "outputId": "4287be92-81b7-48d1-f58f-2a0aae6afd28"
      },
      "execution_count": 127,
      "outputs": [
        {
          "output_type": "execute_result",
          "data": {
            "text/plain": [
              "array([6, 6, 7, 8, 6, 4, 2, 3, 0])"
            ]
          },
          "metadata": {},
          "execution_count": 127
        }
      ]
    },
    {
      "cell_type": "code",
      "source": [
        "vector = np.vectorize(operacion)  # The arrays was vectorized and the function applied\n",
        "vector(m)"
      ],
      "metadata": {
        "colab": {
          "base_uri": "https://localhost:8080/"
        },
        "id": "MlqJT86mP9TA",
        "outputId": "168e723d-6b15-43c6-f9e4-f22189273114"
      },
      "execution_count": 128,
      "outputs": [
        {
          "output_type": "execute_result",
          "data": {
            "text/plain": [
              "array([37, 37, 50, 65, 37, 17,  5, 10,  1])"
            ]
          },
          "metadata": {},
          "execution_count": 128
        }
      ]
    },
    {
      "cell_type": "code",
      "source": [
        "s = np.random.randint(20,30,9)\n",
        "s"
      ],
      "metadata": {
        "colab": {
          "base_uri": "https://localhost:8080/"
        },
        "id": "lnySeihkf4ni",
        "outputId": "f4a174f7-5e64-4b67-d65c-82b5f2709452"
      },
      "execution_count": 129,
      "outputs": [
        {
          "output_type": "execute_result",
          "data": {
            "text/plain": [
              "array([28, 24, 26, 27, 24, 29, 28, 28, 27])"
            ]
          },
          "metadata": {},
          "execution_count": 129
        }
      ]
    },
    {
      "cell_type": "code",
      "source": [
        "vector = np.vectorize(lambda valor: (valor ** 2) + 1)  # For easy functions, instead of creating one, lamba can be used\n",
        "vector(s)"
      ],
      "metadata": {
        "colab": {
          "base_uri": "https://localhost:8080/"
        },
        "id": "2IvUZCLGKlBI",
        "outputId": "e8f50610-0478-4f9b-b21d-60c2643c5916"
      },
      "execution_count": 130,
      "outputs": [
        {
          "output_type": "execute_result",
          "data": {
            "text/plain": [
              "array([785, 577, 677, 730, 577, 842, 785, 785, 730])"
            ]
          },
          "metadata": {},
          "execution_count": 130
        }
      ]
    },
    {
      "cell_type": "code",
      "source": [
        " o = np.arange(0,10)  # Original array\n",
        " o"
      ],
      "metadata": {
        "id": "ZVz72pBbIb3m",
        "colab": {
          "base_uri": "https://localhost:8080/"
        },
        "outputId": "3fc33e6f-97a0-423d-f45f-5271f669d71e"
      },
      "execution_count": 131,
      "outputs": [
        {
          "output_type": "execute_result",
          "data": {
            "text/plain": [
              "array([0, 1, 2, 3, 4, 5, 6, 7, 8, 9])"
            ]
          },
          "metadata": {},
          "execution_count": 131
        }
      ]
    },
    {
      "cell_type": "code",
      "source": [
        "p = o.copy()  # New array with the same elements than array 'o' but  if changes \n",
        "#are made, will not affect eachothers. "
      ],
      "metadata": {
        "id": "Ef3vOv6YpZL9"
      },
      "execution_count": 132,
      "outputs": []
    },
    {
      "cell_type": "code",
      "source": [
        "id(o)  "
      ],
      "metadata": {
        "colab": {
          "base_uri": "https://localhost:8080/"
        },
        "id": "Oi2WPl9RqGlo",
        "outputId": "dbeefd38-aea3-40a0-8405-128cb8d75d84"
      },
      "execution_count": 133,
      "outputs": [
        {
          "output_type": "execute_result",
          "data": {
            "text/plain": [
              "139888441415600"
            ]
          },
          "metadata": {},
          "execution_count": 133
        }
      ]
    },
    {
      "cell_type": "code",
      "source": [
        "id(p)   # Proof that both arrays are different even with elements look the same"
      ],
      "metadata": {
        "colab": {
          "base_uri": "https://localhost:8080/"
        },
        "id": "BhCF7j6yqPvL",
        "outputId": "4ad2b3bc-d9cb-48c9-dfde-7babb29bf746"
      },
      "execution_count": 134,
      "outputs": [
        {
          "output_type": "execute_result",
          "data": {
            "text/plain": [
              "139888441416080"
            ]
          },
          "metadata": {},
          "execution_count": 134
        }
      ]
    },
    {
      "cell_type": "code",
      "source": [
        "a is b  # Not the same element"
      ],
      "metadata": {
        "colab": {
          "base_uri": "https://localhost:8080/"
        },
        "id": "4RTKKuzIqg8b",
        "outputId": "3752c0bc-00fe-47e9-c646-3eba8050805a"
      },
      "execution_count": 135,
      "outputs": [
        {
          "output_type": "execute_result",
          "data": {
            "text/plain": [
              "False"
            ]
          },
          "metadata": {},
          "execution_count": 135
        }
      ]
    },
    {
      "cell_type": "code",
      "source": [
        "o[2] = 19  # Reasignment will affet only the element inside array 'o'\n",
        "o"
      ],
      "metadata": {
        "colab": {
          "base_uri": "https://localhost:8080/"
        },
        "id": "0whiycarqh-L",
        "outputId": "90cadc4f-fcb8-4d01-a5b5-7dbd969407ff"
      },
      "execution_count": 136,
      "outputs": [
        {
          "output_type": "execute_result",
          "data": {
            "text/plain": [
              "array([ 0,  1, 19,  3,  4,  5,  6,  7,  8,  9])"
            ]
          },
          "metadata": {},
          "execution_count": 136
        }
      ]
    },
    {
      "cell_type": "code",
      "source": [
        "p = o.view()  # Copy of array 'o' where changes will affect both arrays. \n",
        "# You can do the same if p = o[:] p = to array 'o' form its first to its last value.\n",
        "p"
      ],
      "metadata": {
        "colab": {
          "base_uri": "https://localhost:8080/"
        },
        "id": "oVdSXpTCqo5T",
        "outputId": "e24a7468-edac-4273-a60b-359cb45e6e7e"
      },
      "execution_count": 137,
      "outputs": [
        {
          "output_type": "execute_result",
          "data": {
            "text/plain": [
              "array([ 0,  1, 19,  3,  4,  5,  6,  7,  8,  9])"
            ]
          },
          "metadata": {},
          "execution_count": 137
        }
      ]
    },
    {
      "cell_type": "code",
      "source": [
        "o is p   # Not the same element"
      ],
      "metadata": {
        "colab": {
          "base_uri": "https://localhost:8080/"
        },
        "id": "ml3h3I7sq9xc",
        "outputId": "1e00a317-28f7-4d81-962b-397f7f22bddf"
      },
      "execution_count": 138,
      "outputs": [
        {
          "output_type": "execute_result",
          "data": {
            "text/plain": [
              "False"
            ]
          },
          "metadata": {},
          "execution_count": 138
        }
      ]
    },
    {
      "cell_type": "code",
      "source": [
        "o[-1] = 150  # Reasignment will affet both arrays 'o' & 'p'. Same if I change 'p'\n",
        "o"
      ],
      "metadata": {
        "colab": {
          "base_uri": "https://localhost:8080/"
        },
        "id": "Y672kLbqrBip",
        "outputId": "9661db32-acf7-4c90-8492-5952819071c3"
      },
      "execution_count": 139,
      "outputs": [
        {
          "output_type": "execute_result",
          "data": {
            "text/plain": [
              "array([  0,   1,  19,   3,   4,   5,   6,   7,   8, 150])"
            ]
          },
          "metadata": {},
          "execution_count": 139
        }
      ]
    },
    {
      "cell_type": "code",
      "source": [
        "p "
      ],
      "metadata": {
        "colab": {
          "base_uri": "https://localhost:8080/"
        },
        "id": "ffoEyogdrfFU",
        "outputId": "9dc5c8f0-266e-4e40-8ea0-9afc4456f5af"
      },
      "execution_count": 140,
      "outputs": [
        {
          "output_type": "execute_result",
          "data": {
            "text/plain": [
              "array([  0,   1,  19,   3,   4,   5,   6,   7,   8, 150])"
            ]
          },
          "metadata": {},
          "execution_count": 140
        }
      ]
    },
    {
      "cell_type": "code",
      "source": [
        "o is p.base  # .base points the original array"
      ],
      "metadata": {
        "colab": {
          "base_uri": "https://localhost:8080/"
        },
        "id": "GPPXmKXmrfzL",
        "outputId": "e0429fee-2791-4a57-a734-40990dfbde14"
      },
      "execution_count": 141,
      "outputs": [
        {
          "output_type": "execute_result",
          "data": {
            "text/plain": [
              "True"
            ]
          },
          "metadata": {},
          "execution_count": 141
        }
      ]
    },
    {
      "cell_type": "code",
      "source": [
        "id(o)  # Proof of line 66 statement"
      ],
      "metadata": {
        "colab": {
          "base_uri": "https://localhost:8080/"
        },
        "id": "30UlifmGr5jr",
        "outputId": "d4c41505-10e3-42d5-d278-e1b7b6aeddce"
      },
      "execution_count": 142,
      "outputs": [
        {
          "output_type": "execute_result",
          "data": {
            "text/plain": [
              "139888441415600"
            ]
          },
          "metadata": {},
          "execution_count": 142
        }
      ]
    },
    {
      "cell_type": "code",
      "source": [
        "id(p.base)  # Proof of line 66 statement. Same ID for 'o' and 'p.base'"
      ],
      "metadata": {
        "colab": {
          "base_uri": "https://localhost:8080/"
        },
        "id": "bZntBjNcsBNf",
        "outputId": "14a2d8fd-8547-40a5-b49d-1f57e5c1dbc5"
      },
      "execution_count": 143,
      "outputs": [
        {
          "output_type": "execute_result",
          "data": {
            "text/plain": [
              "139888441415600"
            ]
          },
          "metadata": {},
          "execution_count": 143
        }
      ]
    },
    {
      "cell_type": "markdown",
      "source": [
        "## Multi-dimensional Arrays"
      ],
      "metadata": {
        "id": "V31QtD7Hs5q3"
      }
    },
    {
      "cell_type": "code",
      "source": [
        "A = np.array([  # 3 rows 5 columns array\n",
        "  [1, 2, 3, 4, 5],\n",
        "  [10, 20, 30, 40, 50],\n",
        "  [100, 200, 300, 400, 500]\n",
        "  ])\n",
        "A"
      ],
      "metadata": {
        "colab": {
          "base_uri": "https://localhost:8080/"
        },
        "id": "OAdfmfZgs7Nh",
        "outputId": "5127ff08-8193-41c7-ad17-97679ee90496"
      },
      "execution_count": 144,
      "outputs": [
        {
          "output_type": "execute_result",
          "data": {
            "text/plain": [
              "array([[  1,   2,   3,   4,   5],\n",
              "       [ 10,  20,  30,  40,  50],\n",
              "       [100, 200, 300, 400, 500]])"
            ]
          },
          "metadata": {},
          "execution_count": 144
        }
      ]
    },
    {
      "cell_type": "code",
      "source": [
        "A.ndim  # Bidimensional array"
      ],
      "metadata": {
        "colab": {
          "base_uri": "https://localhost:8080/"
        },
        "id": "Pml7dPIftYGi",
        "outputId": "17552f81-35d5-45dc-de84-9b5da3bbcdb5"
      },
      "execution_count": 145,
      "outputs": [
        {
          "output_type": "execute_result",
          "data": {
            "text/plain": [
              "2"
            ]
          },
          "metadata": {},
          "execution_count": 145
        }
      ]
    },
    {
      "cell_type": "code",
      "source": [
        "A.shape  # (0, 1 axis) 0 -> rows 1 -> columns"
      ],
      "metadata": {
        "colab": {
          "base_uri": "https://localhost:8080/"
        },
        "id": "trWsmbA_tnfi",
        "outputId": "426cf407-ec70-4eaf-ffe4-8ea598bce2ae"
      },
      "execution_count": 146,
      "outputs": [
        {
          "output_type": "execute_result",
          "data": {
            "text/plain": [
              "(3, 5)"
            ]
          },
          "metadata": {},
          "execution_count": 146
        }
      ]
    },
    {
      "cell_type": "code",
      "source": [
        "A[0][0]  # Value inserted on 1st row, 1st column"
      ],
      "metadata": {
        "colab": {
          "base_uri": "https://localhost:8080/"
        },
        "id": "LQSQsFtLtrvc",
        "outputId": "81fc1f8d-fc0a-4ead-be8a-5f21eba8de3e"
      },
      "execution_count": 147,
      "outputs": [
        {
          "output_type": "execute_result",
          "data": {
            "text/plain": [
              "1"
            ]
          },
          "metadata": {},
          "execution_count": 147
        }
      ]
    },
    {
      "cell_type": "code",
      "source": [
        "A[0,0]  # Different command to get the value inserted on 1st row, 1st column"
      ],
      "metadata": {
        "colab": {
          "base_uri": "https://localhost:8080/"
        },
        "id": "dn1FEl12uCky",
        "outputId": "51c29ca0-5c0c-4fe2-d7af-4d3bbafb290c"
      },
      "execution_count": 148,
      "outputs": [
        {
          "output_type": "execute_result",
          "data": {
            "text/plain": [
              "1"
            ]
          },
          "metadata": {},
          "execution_count": 148
        }
      ]
    },
    {
      "cell_type": "code",
      "source": [
        "A[1, : 3]  # Getting the first 3 elements of the 2nd row"
      ],
      "metadata": {
        "colab": {
          "base_uri": "https://localhost:8080/"
        },
        "id": "QZTYwKw_uOhm",
        "outputId": "5f0c96ec-a8dd-4ed2-88b3-4b877901886c"
      },
      "execution_count": 149,
      "outputs": [
        {
          "output_type": "execute_result",
          "data": {
            "text/plain": [
              "array([10, 20, 30])"
            ]
          },
          "metadata": {},
          "execution_count": 149
        }
      ]
    },
    {
      "cell_type": "code",
      "source": [
        "A[:, 3]  # All the elements for the column at the index 3"
      ],
      "metadata": {
        "colab": {
          "base_uri": "https://localhost:8080/"
        },
        "id": "JGcPet0mtmIc",
        "outputId": "4aad30eb-be47-4b9c-bb0d-d5eff53d62c7"
      },
      "execution_count": 150,
      "outputs": [
        {
          "output_type": "execute_result",
          "data": {
            "text/plain": [
              "array([  4,  40, 400])"
            ]
          },
          "metadata": {},
          "execution_count": 150
        }
      ]
    },
    {
      "cell_type": "code",
      "source": [
        "A[[0,2], 3]  # Getting the first and last elements for the column at the index 3"
      ],
      "metadata": {
        "colab": {
          "base_uri": "https://localhost:8080/"
        },
        "id": "30uxOg1GwtAt",
        "outputId": "f0eaabc6-5f07-412b-a0a7-03e6a79f0599"
      },
      "execution_count": 151,
      "outputs": [
        {
          "output_type": "execute_result",
          "data": {
            "text/plain": [
              "array([  4, 400])"
            ]
          },
          "metadata": {},
          "execution_count": 151
        }
      ]
    },
    {
      "cell_type": "code",
      "source": [
        "A.shape"
      ],
      "metadata": {
        "colab": {
          "base_uri": "https://localhost:8080/"
        },
        "id": "r-JUHNWxw15d",
        "outputId": "628c34ee-f551-4934-8945-92c4dfc09176"
      },
      "execution_count": 152,
      "outputs": [
        {
          "output_type": "execute_result",
          "data": {
            "text/plain": [
              "(3, 5)"
            ]
          },
          "metadata": {},
          "execution_count": 152
        }
      ]
    },
    {
      "cell_type": "markdown",
      "source": [
        "## Descriptive Statistics"
      ],
      "metadata": {
        "id": "Jb_zfKHgKdZK"
      }
    },
    {
      "cell_type": "code",
      "source": [
        "A"
      ],
      "metadata": {
        "colab": {
          "base_uri": "https://localhost:8080/"
        },
        "id": "rnL5dnZszfLh",
        "outputId": "b3a5ad70-63e5-4edf-a03f-96d9acd05259"
      },
      "execution_count": 153,
      "outputs": [
        {
          "output_type": "execute_result",
          "data": {
            "text/plain": [
              "array([[  1,   2,   3,   4,   5],\n",
              "       [ 10,  20,  30,  40,  50],\n",
              "       [100, 200, 300, 400, 500]])"
            ]
          },
          "metadata": {},
          "execution_count": 153
        }
      ]
    },
    {
      "cell_type": "code",
      "source": [
        "A.std()  # Returns the standard deviation along the specified axis"
      ],
      "metadata": {
        "colab": {
          "base_uri": "https://localhost:8080/"
        },
        "id": "niq-dyTKzf0t",
        "outputId": "49e7ff7c-e136-4347-bd9a-32673da78012"
      },
      "execution_count": 154,
      "outputs": [
        {
          "output_type": "execute_result",
          "data": {
            "text/plain": [
              "157.21323099535866"
            ]
          },
          "metadata": {},
          "execution_count": 154
        }
      ]
    },
    {
      "cell_type": "code",
      "source": [
        "A.sum()  # Returns the result of all the elements sum"
      ],
      "metadata": {
        "colab": {
          "base_uri": "https://localhost:8080/"
        },
        "id": "vfUE4UCqzuWb",
        "outputId": "6983c472-9a52-41ca-8080-48722c3889a5"
      },
      "execution_count": 155,
      "outputs": [
        {
          "output_type": "execute_result",
          "data": {
            "text/plain": [
              "1665"
            ]
          },
          "metadata": {},
          "execution_count": 155
        }
      ]
    },
    {
      "cell_type": "code",
      "source": [
        "A.min()  # Returns the minumum value findable in the array"
      ],
      "metadata": {
        "colab": {
          "base_uri": "https://localhost:8080/"
        },
        "id": "_mNnXr1BzvZw",
        "outputId": "e3e0966d-1e7d-4618-c78f-b26914099b1b"
      },
      "execution_count": 156,
      "outputs": [
        {
          "output_type": "execute_result",
          "data": {
            "text/plain": [
              "1"
            ]
          },
          "metadata": {},
          "execution_count": 156
        }
      ]
    },
    {
      "cell_type": "code",
      "source": [
        "A.max()  # Returns the maximum value findable in the array"
      ],
      "metadata": {
        "colab": {
          "base_uri": "https://localhost:8080/"
        },
        "id": "nbZGCBMrzwiA",
        "outputId": "6fdbec96-014a-4e94-9d1e-7710769185fe"
      },
      "execution_count": 157,
      "outputs": [
        {
          "output_type": "execute_result",
          "data": {
            "text/plain": [
              "500"
            ]
          },
          "metadata": {},
          "execution_count": 157
        }
      ]
    },
    {
      "cell_type": "code",
      "source": [
        "A.mean()  # Returns the medium value / average value"
      ],
      "metadata": {
        "colab": {
          "base_uri": "https://localhost:8080/"
        },
        "id": "qJy0rkLfzx1R",
        "outputId": "1fc2ad29-7a2a-4a77-ddea-d9b62a78f781"
      },
      "execution_count": 158,
      "outputs": [
        {
          "output_type": "execute_result",
          "data": {
            "text/plain": [
              "111.0"
            ]
          },
          "metadata": {},
          "execution_count": 158
        }
      ]
    },
    {
      "cell_type": "code",
      "source": [
        "A[1]  # Returns all the elements of row 1"
      ],
      "metadata": {
        "colab": {
          "base_uri": "https://localhost:8080/"
        },
        "id": "DVhg8W1IzzSP",
        "outputId": "90019144-966f-4839-dc41-977d7c0c90fd"
      },
      "execution_count": 160,
      "outputs": [
        {
          "output_type": "execute_result",
          "data": {
            "text/plain": [
              "array([10, 20, 30, 40, 50])"
            ]
          },
          "metadata": {},
          "execution_count": 160
        }
      ]
    },
    {
      "cell_type": "code",
      "source": [
        "A[1].sum()  # Returns the addition of the elements on row 1"
      ],
      "metadata": {
        "colab": {
          "base_uri": "https://localhost:8080/"
        },
        "id": "XBMe1NaG0Npg",
        "outputId": "5b17a6ce-f511-4ca5-eb31-d6e783ff61d8"
      },
      "execution_count": 159,
      "outputs": [
        {
          "output_type": "execute_result",
          "data": {
            "text/plain": [
              "150"
            ]
          },
          "metadata": {},
          "execution_count": 159
        }
      ]
    },
    {
      "cell_type": "code",
      "source": [
        "A[:, 2]  # 3rd column values"
      ],
      "metadata": {
        "colab": {
          "base_uri": "https://localhost:8080/"
        },
        "id": "3hBlmKl_0Zup",
        "outputId": "6046b36d-28ba-46ef-d912-10f4dfd4cfc0"
      },
      "execution_count": 165,
      "outputs": [
        {
          "output_type": "execute_result",
          "data": {
            "text/plain": [
              "array([  3,  30, 300])"
            ]
          },
          "metadata": {},
          "execution_count": 165
        }
      ]
    },
    {
      "cell_type": "code",
      "source": [
        "A[:, 2].mean() # Returns the 3rd column mean"
      ],
      "metadata": {
        "colab": {
          "base_uri": "https://localhost:8080/"
        },
        "id": "L_MPWwnEzj4Q",
        "outputId": "1e0a5824-3b30-4aa0-adab-0b4db3f9eb62"
      },
      "execution_count": 167,
      "outputs": [
        {
          "output_type": "execute_result",
          "data": {
            "text/plain": [
              "111.0"
            ]
          },
          "metadata": {},
          "execution_count": 167
        }
      ]
    },
    {
      "cell_type": "code",
      "source": [
        "A"
      ],
      "metadata": {
        "colab": {
          "base_uri": "https://localhost:8080/"
        },
        "id": "QSoXumqq4oxi",
        "outputId": "497f6499-d6af-4b25-e3ed-a80a4c5996e3"
      },
      "execution_count": 169,
      "outputs": [
        {
          "output_type": "execute_result",
          "data": {
            "text/plain": [
              "array([[  1,   2,   3,   4,   5],\n",
              "       [ 10,  20,  30,  40,  50],\n",
              "       [100, 200, 300, 400, 500]])"
            ]
          },
          "metadata": {},
          "execution_count": 169
        }
      ]
    },
    {
      "cell_type": "code",
      "source": [
        "A[:, 4].sum()  # Addition of all the values at the 5th column"
      ],
      "metadata": {
        "colab": {
          "base_uri": "https://localhost:8080/"
        },
        "id": "QP16bg6U4ykG",
        "outputId": "cac9556d-1985-4812-c146-0a27567b580b"
      },
      "execution_count": 170,
      "outputs": [
        {
          "output_type": "execute_result",
          "data": {
            "text/plain": [
              "555"
            ]
          },
          "metadata": {},
          "execution_count": 170
        }
      ]
    },
    {
      "cell_type": "markdown",
      "source": [
        "## Array's Transposition"
      ],
      "metadata": {
        "id": "UyX9Q1YaJiaV"
      }
    },
    {
      "cell_type": "code",
      "source": [
        "A.T # Transposition of values. To turn the rows into columns and viseversa"
      ],
      "metadata": {
        "colab": {
          "base_uri": "https://localhost:8080/"
        },
        "id": "S69TnELN4RRd",
        "outputId": "14556ffe-b0ae-4f68-ef48-afbf5c164f7f"
      },
      "execution_count": 166,
      "outputs": [
        {
          "output_type": "execute_result",
          "data": {
            "text/plain": [
              "array([[  1,  10, 100],\n",
              "       [  2,  20, 200],\n",
              "       [  3,  30, 300],\n",
              "       [  4,  40, 400],\n",
              "       [  5,  50, 500]])"
            ]
          },
          "metadata": {},
          "execution_count": 166
        }
      ]
    },
    {
      "cell_type": "code",
      "source": [
        "A.T[4].sum()  # By transpose the array the addition of the values is easier to code"
      ],
      "metadata": {
        "colab": {
          "base_uri": "https://localhost:8080/"
        },
        "id": "4BEae2ns4nd2",
        "outputId": "9c6934d0-ebcb-40eb-bd22-8f9b982ac6e3"
      },
      "execution_count": 171,
      "outputs": [
        {
          "output_type": "execute_result",
          "data": {
            "text/plain": [
              "555"
            ]
          },
          "metadata": {},
          "execution_count": 171
        }
      ]
    },
    {
      "cell_type": "markdown",
      "source": [
        "## Conditional Structures with Arrays\n",
        "\n",
        "\n"
      ],
      "metadata": {
        "id": "y3tCYHCLJwJZ"
      }
    },
    {
      "cell_type": "code",
      "source": [
        "C = np.random.randint(0, 100, 50)\n",
        "C"
      ],
      "metadata": {
        "colab": {
          "base_uri": "https://localhost:8080/"
        },
        "id": "0EzuIiSF46aq",
        "outputId": "5444bff2-926e-47bd-e099-2e8896b866b1"
      },
      "execution_count": 185,
      "outputs": [
        {
          "output_type": "execute_result",
          "data": {
            "text/plain": [
              "array([63, 94, 91, 74, 23, 13, 64, 24, 66,  9, 99, 52, 26, 15, 34, 34, 47,\n",
              "        3, 89, 36, 79,  9, 84, 50, 94, 31, 27, 70, 56, 31, 65, 86, 18,  5,\n",
              "        3,  5,  9, 44, 50, 60, 35, 97, 46, 86, 30, 58,  8, 98, 48, 63])"
            ]
          },
          "metadata": {},
          "execution_count": 185
        }
      ]
    },
    {
      "cell_type": "code",
      "source": [
        "C > 50  # It compares each value with the requested condition.\n",
        "# To get the list of elements instead the boolean results put the condition \n",
        "# between []"
      ],
      "metadata": {
        "colab": {
          "base_uri": "https://localhost:8080/"
        },
        "id": "k62RjU3Q6AvA",
        "outputId": "115a0e7b-b243-4b46-f502-664e4331bb6d"
      },
      "execution_count": 186,
      "outputs": [
        {
          "output_type": "execute_result",
          "data": {
            "text/plain": [
              "array([ True,  True,  True,  True, False, False,  True, False,  True,\n",
              "       False,  True,  True, False, False, False, False, False, False,\n",
              "        True, False,  True, False,  True, False,  True, False, False,\n",
              "        True,  True, False,  True,  True, False, False, False, False,\n",
              "       False, False, False,  True, False,  True, False,  True, False,\n",
              "        True, False,  True, False,  True])"
            ]
          },
          "metadata": {},
          "execution_count": 186
        }
      ]
    },
    {
      "cell_type": "code",
      "source": [
        "C[C > 50] # When the condition is between [] the result is only those values \n",
        "#that correspond to it"
      ],
      "metadata": {
        "colab": {
          "base_uri": "https://localhost:8080/"
        },
        "id": "aKm7k0H76Fxf",
        "outputId": "a51d2354-e8c0-4952-b069-38f47314b8ac"
      },
      "execution_count": 187,
      "outputs": [
        {
          "output_type": "execute_result",
          "data": {
            "text/plain": [
              "array([63, 94, 91, 74, 64, 66, 99, 52, 89, 79, 84, 94, 70, 56, 65, 86, 60,\n",
              "       97, 86, 58, 98, 63])"
            ]
          },
          "metadata": {},
          "execution_count": 187
        }
      ]
    },
    {
      "cell_type": "code",
      "source": [
        "C[ (C > 50) & (C < 90) ]  # Includes more than 1 conditional. "
      ],
      "metadata": {
        "colab": {
          "base_uri": "https://localhost:8080/"
        },
        "id": "SlGdipu06vOp",
        "outputId": "00ab35ce-e878-408b-f3fe-f3c0c6013437"
      },
      "execution_count": 188,
      "outputs": [
        {
          "output_type": "execute_result",
          "data": {
            "text/plain": [
              "array([63, 74, 64, 66, 52, 89, 79, 84, 70, 56, 65, 86, 60, 86, 58, 63])"
            ]
          },
          "metadata": {},
          "execution_count": 188
        }
      ]
    },
    {
      "cell_type": "code",
      "source": [
        "C[ (C == 10) | (C == 20) | (C == 50) ]   # At least 1 condition must fit"
      ],
      "metadata": {
        "colab": {
          "base_uri": "https://localhost:8080/"
        },
        "id": "G2wtgSCs7LdD",
        "outputId": "fed5ef34-b135-4c9c-d56f-98bd1cbbc699"
      },
      "execution_count": 189,
      "outputs": [
        {
          "output_type": "execute_result",
          "data": {
            "text/plain": [
              "array([50, 50])"
            ]
          },
          "metadata": {},
          "execution_count": 189
        }
      ]
    },
    {
      "cell_type": "code",
      "source": [
        "C"
      ],
      "metadata": {
        "colab": {
          "base_uri": "https://localhost:8080/"
        },
        "id": "lHVXSsCA7lgR",
        "outputId": "a550897a-03a1-44d2-d04d-96bd204a8bea"
      },
      "execution_count": 191,
      "outputs": [
        {
          "output_type": "execute_result",
          "data": {
            "text/plain": [
              "array([63, 94, 91, 74, 23, 13, 64, 24, 66,  9, 99, 52, 26, 15, 34, 34, 47,\n",
              "        3, 89, 36, 79,  9, 84, 50, 94, 31, 27, 70, 56, 31, 65, 86, 18,  5,\n",
              "        3,  5,  9, 44, 50, 60, 35, 97, 46, 86, 30, 58,  8, 98, 48, 63])"
            ]
          },
          "metadata": {},
          "execution_count": 191
        }
      ]
    },
    {
      "cell_type": "code",
      "source": [
        "np.all(C > 50)  # All the elements must fit the condition"
      ],
      "metadata": {
        "colab": {
          "base_uri": "https://localhost:8080/"
        },
        "id": "WI3g6lYA75NA",
        "outputId": "bece840b-1091-446a-db23-e762c6eef663"
      },
      "execution_count": 193,
      "outputs": [
        {
          "output_type": "execute_result",
          "data": {
            "text/plain": [
              "False"
            ]
          },
          "metadata": {},
          "execution_count": 193
        }
      ]
    },
    {
      "cell_type": "code",
      "source": [
        "np.all(C >= 0)  # Returns True if all the elements fit the condition"
      ],
      "metadata": {
        "colab": {
          "base_uri": "https://localhost:8080/"
        },
        "id": "a5W8JcUP9XZJ",
        "outputId": "6481d48a-80d3-43bb-fe2c-9093ecdac52f"
      },
      "execution_count": 194,
      "outputs": [
        {
          "output_type": "execute_result",
          "data": {
            "text/plain": [
              "True"
            ]
          },
          "metadata": {},
          "execution_count": 194
        }
      ]
    },
    {
      "cell_type": "code",
      "source": [
        "np.any(C >= 10) # Returns True if at least 1 element fits the condition"
      ],
      "metadata": {
        "colab": {
          "base_uri": "https://localhost:8080/"
        },
        "id": "HWPmYOeF9Z60",
        "outputId": "3fdc5a78-a189-4182-db64-5428b1d654c9"
      },
      "execution_count": 196,
      "outputs": [
        {
          "output_type": "execute_result",
          "data": {
            "text/plain": [
              "True"
            ]
          },
          "metadata": {},
          "execution_count": 196
        }
      ]
    },
    {
      "cell_type": "markdown",
      "source": [
        "## Where and select Functions"
      ],
      "metadata": {
        "id": "OK3-tiwl-W9O"
      }
    },
    {
      "cell_type": "code",
      "source": [
        "calificaciones = np.random.randint(1, 11, 10)\n",
        "calificaciones"
      ],
      "metadata": {
        "colab": {
          "base_uri": "https://localhost:8080/"
        },
        "id": "PJM4lpwZ9TSh",
        "outputId": "94b05521-1b1a-4433-b394-af349e3ba3be"
      },
      "execution_count": 223,
      "outputs": [
        {
          "output_type": "execute_result",
          "data": {
            "text/plain": [
              "array([ 1,  7, 10, 10,  5, 10,  5,  9,  5,  6])"
            ]
          },
          "metadata": {},
          "execution_count": 223
        }
      ]
    },
    {
      "cell_type": "code",
      "source": [
        "np.where(   # When you have max. 2 values to return to the condition \n",
        "    calificaciones >= 7, \n",
        "    'Congratulations for Passing Exam and Good Result',\n",
        "    'Sorry for not Passing the Exam.',\n",
        ")"
      ],
      "metadata": {
        "colab": {
          "base_uri": "https://localhost:8080/"
        },
        "id": "dYroDtpp_1M6",
        "outputId": "c448eea8-ae16-46ca-e213-1a43619c0b81"
      },
      "execution_count": 224,
      "outputs": [
        {
          "output_type": "execute_result",
          "data": {
            "text/plain": [
              "array(['Sorry for not Passing the Exam.',\n",
              "       'Congratulations for Passing Exam and Good Result',\n",
              "       'Congratulations for Passing Exam and Good Result',\n",
              "       'Congratulations for Passing Exam and Good Result',\n",
              "       'Sorry for not Passing the Exam.',\n",
              "       'Congratulations for Passing Exam and Good Result',\n",
              "       'Sorry for not Passing the Exam.',\n",
              "       'Congratulations for Passing Exam and Good Result',\n",
              "       'Sorry for not Passing the Exam.',\n",
              "       'Sorry for not Passing the Exam.'], dtype='<U48')"
            ]
          },
          "metadata": {},
          "execution_count": 224
        }
      ]
    },
    {
      "cell_type": "code",
      "source": [
        "condiciones = [ \n",
        "    (calificaciones == 10), \n",
        "    (calificaciones == 8) | (calificaciones == 9) ,\n",
        "    (calificaciones == 7),\n",
        "    (calificaciones < 7),\n",
        "    ]"
      ],
      "metadata": {
        "id": "ZUfVsLB87EEA"
      },
      "execution_count": 228,
      "outputs": []
    },
    {
      "cell_type": "code",
      "source": [
        "opciones = [ \n",
        "    'Congratulations for Passing Exam and Getting an \"A\"',\n",
        "    'Congratulations for Passing Exam and Good Result',\n",
        "    'You Passed the Exam!',\n",
        "    'Sorry for not Passing the Exam.',\n",
        "]"
      ],
      "metadata": {
        "id": "QvBn32iQ55pj"
      },
      "execution_count": 229,
      "outputs": []
    },
    {
      "cell_type": "code",
      "source": [
        "calificaciones"
      ],
      "metadata": {
        "colab": {
          "base_uri": "https://localhost:8080/"
        },
        "id": "XZ_QhBzpEM5D",
        "outputId": "b5345b74-d33a-4e69-b06f-8681fbc06ff2"
      },
      "execution_count": 230,
      "outputs": [
        {
          "output_type": "execute_result",
          "data": {
            "text/plain": [
              "array([ 1,  7, 10, 10,  5, 10,  5,  9,  5,  6])"
            ]
          },
          "metadata": {},
          "execution_count": 230
        }
      ]
    },
    {
      "cell_type": "code",
      "source": [
        "np.select(condiciones, opciones)  # When you have more than 2 values to return to the condition "
      ],
      "metadata": {
        "colab": {
          "base_uri": "https://localhost:8080/"
        },
        "id": "EICf9wmIxTg1",
        "outputId": "4761b3b6-d5f1-4229-aa1b-feab9f9818b4"
      },
      "execution_count": 231,
      "outputs": [
        {
          "output_type": "execute_result",
          "data": {
            "text/plain": [
              "array(['Sorry for not Passing the Exam.', 'You Passed the Exam!',\n",
              "       'Congratulations for Passing Exam and Getting an \"A\"',\n",
              "       'Congratulations for Passing Exam and Getting an \"A\"',\n",
              "       'Sorry for not Passing the Exam.',\n",
              "       'Congratulations for Passing Exam and Getting an \"A\"',\n",
              "       'Sorry for not Passing the Exam.',\n",
              "       'Congratulations for Passing Exam and Good Result',\n",
              "       'Sorry for not Passing the Exam.',\n",
              "       'Sorry for not Passing the Exam.'], dtype='<U51')"
            ]
          },
          "metadata": {},
          "execution_count": 231
        }
      ]
    },
    {
      "cell_type": "markdown",
      "source": [
        "## Create and read documents"
      ],
      "metadata": {
        "id": "APcfhxvME_oc"
      }
    },
    {
      "cell_type": "code",
      "source": [
        "F = np.random.randint(20, 40, 10)\n",
        "F"
      ],
      "metadata": {
        "colab": {
          "base_uri": "https://localhost:8080/"
        },
        "id": "V96pd7pUFES3",
        "outputId": "3e3663fc-c041-4f39-f9e6-556a845d742b"
      },
      "execution_count": 232,
      "outputs": [
        {
          "output_type": "execute_result",
          "data": {
            "text/plain": [
              "array([21, 39, 25, 37, 37, 27, 21, 23, 39, 26])"
            ]
          },
          "metadata": {},
          "execution_count": 232
        }
      ]
    },
    {
      "cell_type": "code",
      "source": [
        "np.savetxt('array.txt', F)  # Name of the file, name of the array to save in the file"
      ],
      "metadata": {
        "id": "REELgPeaFPLb"
      },
      "execution_count": 234,
      "outputs": []
    },
    {
      "cell_type": "code",
      "source": [
        "ls  # Command to see the saved files"
      ],
      "metadata": {
        "colab": {
          "base_uri": "https://localhost:8080/"
        },
        "id": "HY8pF-bPFXoE",
        "outputId": "7aff8690-9874-4324-a171-b5d94cc43ca0"
      },
      "execution_count": 235,
      "outputs": [
        {
          "output_type": "stream",
          "name": "stdout",
          "text": [
            "array.txt  \u001b[0m\u001b[01;34msample_data\u001b[0m/\n"
          ]
        }
      ]
    },
    {
      "cell_type": "code",
      "source": [
        "%load array.txt  # It shows the elements in my array in complex type"
      ],
      "metadata": {
        "id": "ypgB0zHfFgg-"
      },
      "execution_count": 238,
      "outputs": []
    },
    {
      "cell_type": "code",
      "source": [
        "np.savetxt('array.txt', F, fmt='%i')  # It saves the values as int type"
      ],
      "metadata": {
        "id": "pOTpwWR1GaZv"
      },
      "execution_count": 239,
      "outputs": []
    },
    {
      "cell_type": "code",
      "source": [
        "%load array.txt  # It shows the elements in my array now as int type"
      ],
      "metadata": {
        "id": "buBxrVT_HB1b"
      },
      "execution_count": 240,
      "outputs": []
    },
    {
      "cell_type": "code",
      "source": [
        "np.loadtxt('array.txt')  # Returns the info in the file as an array in Float type"
      ],
      "metadata": {
        "colab": {
          "base_uri": "https://localhost:8080/"
        },
        "id": "YxMTPGVRFrFi",
        "outputId": "c009febb-2e10-4487-9617-54f62b091c63"
      },
      "execution_count": 241,
      "outputs": [
        {
          "output_type": "execute_result",
          "data": {
            "text/plain": [
              "array([21., 39., 25., 37., 37., 27., 21., 23., 39., 26.])"
            ]
          },
          "metadata": {},
          "execution_count": 241
        }
      ]
    },
    {
      "cell_type": "code",
      "source": [
        "np.loadtxt('array.txt', dtype=int)  # 'loadtxt' creates an int type new array with the info from the file"
      ],
      "metadata": {
        "colab": {
          "base_uri": "https://localhost:8080/"
        },
        "id": "FdQzJmkvHXAV",
        "outputId": "8499d7a5-d01b-4cb0-a9bd-2fe1a4fd95e9"
      },
      "execution_count": 242,
      "outputs": [
        {
          "output_type": "execute_result",
          "data": {
            "text/plain": [
              "array([21, 39, 25, 37, 37, 27, 21, 23, 39, 26])"
            ]
          },
          "metadata": {},
          "execution_count": 242
        }
      ]
    },
    {
      "cell_type": "code",
      "source": [
        "np.savetxt('array.txt', F)  # 'savetxt' alters a file (Create and update the content of the file in the system)"
      ],
      "metadata": {
        "id": "b8NgdmuzHogc"
      },
      "execution_count": 246,
      "outputs": []
    },
    {
      "cell_type": "code",
      "source": [
        "F"
      ],
      "metadata": {
        "colab": {
          "base_uri": "https://localhost:8080/"
        },
        "id": "qI405aYvFRtt",
        "outputId": "61c6a54c-b57b-4ae4-fefb-dd157e015830"
      },
      "execution_count": 247,
      "outputs": [
        {
          "output_type": "execute_result",
          "data": {
            "text/plain": [
              "array([21, 39, 25, 37, 37, 27, 21, 23, 39, 26])"
            ]
          },
          "metadata": {},
          "execution_count": 247
        }
      ]
    },
    {
      "cell_type": "code",
      "source": [
        "F.size"
      ],
      "metadata": {
        "colab": {
          "base_uri": "https://localhost:8080/"
        },
        "id": "02riaXjAMLut",
        "outputId": "6ddd37c8-6830-40ea-d3e9-8e6840f2091f"
      },
      "execution_count": 248,
      "outputs": [
        {
          "output_type": "execute_result",
          "data": {
            "text/plain": [
              "10"
            ]
          },
          "metadata": {},
          "execution_count": 248
        }
      ]
    },
    {
      "cell_type": "code",
      "source": [
        "g = F.reshape((2,5))\n",
        "g"
      ],
      "metadata": {
        "colab": {
          "base_uri": "https://localhost:8080/"
        },
        "id": "0HpAkErtMNQv",
        "outputId": "1278d57b-8830-41b7-c6bd-0bf0d6e9cbed"
      },
      "execution_count": 251,
      "outputs": [
        {
          "output_type": "execute_result",
          "data": {
            "text/plain": [
              "array([[21, 39, 25, 37, 37],\n",
              "       [27, 21, 23, 39, 26]])"
            ]
          },
          "metadata": {},
          "execution_count": 251
        }
      ]
    },
    {
      "cell_type": "code",
      "source": [
        "np.savetxt('matriz.csv', g, delimiter = ',', fmt='%i')  #  'savetxt' creates a file with ' ' name, \n",
        "# array to get the data from and the int type elements separated with ','  "
      ],
      "metadata": {
        "id": "Mf0e6DGEMWFo"
      },
      "execution_count": 256,
      "outputs": []
    },
    {
      "cell_type": "code",
      "source": [
        "ls  # To confirm that matriz.csv was created"
      ],
      "metadata": {
        "colab": {
          "base_uri": "https://localhost:8080/"
        },
        "id": "kxF9EmDxMlfG",
        "outputId": "3860304d-7543-4f04-c505-5eba97b80f7e"
      },
      "execution_count": 257,
      "outputs": [
        {
          "output_type": "stream",
          "name": "stdout",
          "text": [
            "array.txt  matriz.csv  \u001b[0m\u001b[01;34msample_data\u001b[0m/\n"
          ]
        }
      ]
    },
    {
      "cell_type": "code",
      "source": [
        "%load matriz.csv"
      ],
      "metadata": {
        "id": "tOozpEIOMmEy"
      },
      "execution_count": 258,
      "outputs": []
    },
    {
      "cell_type": "code",
      "source": [
        " # 'save' and 'load' creates a binary file, the extension should be .npy"
      ],
      "metadata": {
        "id": "DFPRQD65M8aF"
      },
      "execution_count": null,
      "outputs": []
    },
    {
      "cell_type": "markdown",
      "source": [
        "## 'Changing' Arrays"
      ],
      "metadata": {
        "id": "RHPuaCbxRAUl"
      }
    },
    {
      "cell_type": "code",
      "source": [
        "j = np.random.randint(100, 120, 10)\n",
        "j"
      ],
      "metadata": {
        "colab": {
          "base_uri": "https://localhost:8080/"
        },
        "id": "bqC_1qcEMSWS",
        "outputId": "350a88c7-0c1d-4a69-b3c9-763b86a176c2"
      },
      "execution_count": 260,
      "outputs": [
        {
          "output_type": "execute_result",
          "data": {
            "text/plain": [
              "array([114, 110, 100, 110, 105, 106, 105, 117, 119, 108])"
            ]
          },
          "metadata": {},
          "execution_count": 260
        }
      ]
    },
    {
      "cell_type": "code",
      "source": [
        "j.size"
      ],
      "metadata": {
        "colab": {
          "base_uri": "https://localhost:8080/"
        },
        "id": "RuKWijDiRPNv",
        "outputId": "76c308eb-3756-45ca-ca64-1b8545f9bb9e"
      },
      "execution_count": 261,
      "outputs": [
        {
          "output_type": "execute_result",
          "data": {
            "text/plain": [
              "10"
            ]
          },
          "metadata": {},
          "execution_count": 261
        }
      ]
    },
    {
      "cell_type": "code",
      "source": [
        "# Arrays CAN'T be changed but you can create a copy of it with the added \n",
        "np.insert(j, 4, 200)  # array to copy, index in which the value will be inserted, value"
      ],
      "metadata": {
        "colab": {
          "base_uri": "https://localhost:8080/"
        },
        "id": "ZoqvrwLrRRYP",
        "outputId": "ddc4af9b-42de-4018-e361-ff8158f4cca8"
      },
      "execution_count": 262,
      "outputs": [
        {
          "output_type": "execute_result",
          "data": {
            "text/plain": [
              "array([114, 110, 100, 110, 200, 105, 106, 105, 117, 119, 108])"
            ]
          },
          "metadata": {},
          "execution_count": 262
        }
      ]
    },
    {
      "cell_type": "code",
      "source": [
        "np.append(j, 300)  # array to copy, value. It would be inserted at the end of the array"
      ],
      "metadata": {
        "colab": {
          "base_uri": "https://localhost:8080/"
        },
        "id": "ha1AHt-WSkf7",
        "outputId": "876e5b8a-bf06-4b4f-ce1a-dbab8a89cf11"
      },
      "execution_count": 263,
      "outputs": [
        {
          "output_type": "execute_result",
          "data": {
            "text/plain": [
              "array([114, 110, 100, 110, 105, 106, 105, 117, 119, 108, 300])"
            ]
          },
          "metadata": {},
          "execution_count": 263
        }
      ]
    },
    {
      "cell_type": "code",
      "source": [
        "np.delete(j, -1)  # Array to delete the value from, value's position"
      ],
      "metadata": {
        "colab": {
          "base_uri": "https://localhost:8080/"
        },
        "id": "CsOZJdkSS2Ll",
        "outputId": "13a616ee-47d0-48e6-b98f-127a8fca9d7d"
      },
      "execution_count": 264,
      "outputs": [
        {
          "output_type": "execute_result",
          "data": {
            "text/plain": [
              "array([114, 110, 100, 110, 105, 106, 105, 117, 119])"
            ]
          },
          "metadata": {},
          "execution_count": 264
        }
      ]
    },
    {
      "cell_type": "code",
      "source": [
        "np.resize(j, 5)  # Returns a new array with the new specified size."
      ],
      "metadata": {
        "colab": {
          "base_uri": "https://localhost:8080/"
        },
        "id": "yOILOJbvTDy3",
        "outputId": "37cbd13f-b029-4498-f25b-5541ecd93402"
      },
      "execution_count": 266,
      "outputs": [
        {
          "output_type": "execute_result",
          "data": {
            "text/plain": [
              "array([114, 110, 100, 110, 105])"
            ]
          },
          "metadata": {},
          "execution_count": 266
        }
      ]
    },
    {
      "cell_type": "code",
      "source": [
        "h = np.random.randint(200, 220, 10)\n",
        "h"
      ],
      "metadata": {
        "colab": {
          "base_uri": "https://localhost:8080/"
        },
        "id": "4UNaaL9oROTL",
        "outputId": "5a9030e2-ef01-4861-a616-da6a60f437fd"
      },
      "execution_count": 270,
      "outputs": [
        {
          "output_type": "execute_result",
          "data": {
            "text/plain": [
              "array([200, 201, 210, 208, 201, 209, 217, 218, 212, 219])"
            ]
          },
          "metadata": {},
          "execution_count": 270
        }
      ]
    },
    {
      "cell_type": "code",
      "source": [
        "i = np.concatenate([j, h])\n",
        "i"
      ],
      "metadata": {
        "colab": {
          "base_uri": "https://localhost:8080/"
        },
        "id": "pmJyh3VsWfse",
        "outputId": "3ffe8388-d967-4af0-b6a8-755aa1f7a6c7"
      },
      "execution_count": 273,
      "outputs": [
        {
          "output_type": "execute_result",
          "data": {
            "text/plain": [
              "array([114, 110, 100, 110, 105, 106, 105, 117, 119, 108, 200, 201, 210,\n",
              "       208, 201, 209, 217, 218, 212, 219])"
            ]
          },
          "metadata": {},
          "execution_count": 273
        }
      ]
    },
    {
      "cell_type": "code",
      "source": [
        "i.sort()  # Duplicates the array and orders it from smaller to bigger\n",
        "i"
      ],
      "metadata": {
        "colab": {
          "base_uri": "https://localhost:8080/"
        },
        "id": "quFy7L9bWkEx",
        "outputId": "697ed127-978a-41c6-b1d2-7cbc371b7cfb"
      },
      "execution_count": 278,
      "outputs": [
        {
          "output_type": "execute_result",
          "data": {
            "text/plain": [
              "array([100, 105, 105, 106, 108, 110, 110, 114, 117, 119, 200, 201, 201,\n",
              "       208, 209, 210, 212, 217, 218, 219])"
            ]
          },
          "metadata": {},
          "execution_count": 278
        }
      ]
    },
    {
      "cell_type": "code",
      "source": [
        "i = i[::-1]  # Orders the array from bigger to smaller\n",
        "i"
      ],
      "metadata": {
        "colab": {
          "base_uri": "https://localhost:8080/"
        },
        "id": "h-zrYPABWx06",
        "outputId": "94bc9518-1de9-495d-bc9d-06e683cee014"
      },
      "execution_count": 279,
      "outputs": [
        {
          "output_type": "execute_result",
          "data": {
            "text/plain": [
              "array([219, 218, 217, 212, 210, 209, 208, 201, 201, 200, 119, 117, 114,\n",
              "       110, 110, 108, 106, 105, 105, 100])"
            ]
          },
          "metadata": {},
          "execution_count": 279
        }
      ]
    }
  ]
}